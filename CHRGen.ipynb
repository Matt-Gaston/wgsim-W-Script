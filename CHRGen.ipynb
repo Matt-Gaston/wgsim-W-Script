{
 "cells": [
  {
   "cell_type": "code",
   "execution_count": 1,
   "metadata": {},
   "outputs": [],
   "source": [
    "\n",
    "file = open(\"./chm13v2.0.fa\", 'r')\n",
    "\n",
    "\n",
    "file_text = file.readlines()\n",
    "file.close()"
   ]
  },
  {
   "cell_type": "code",
   "execution_count": 3,
   "metadata": {},
   "outputs": [],
   "source": [
    "idx_label = {}\n",
    "for i, line in enumerate(file_text):\n",
    "    file_text[i] = file_text[i]\n",
    "    if line[0] == \">\":\n",
    "        idx_label[i] = line\n",
    "\n",
    "\n",
    "indeces = list(idx_label.keys())\n",
    "indeces.sort()"
   ]
  },
  {
   "cell_type": "code",
   "execution_count": 5,
   "metadata": {},
   "outputs": [
    {
     "name": "stdout",
     "output_type": "stream",
     "text": [
      "0 (0, '>chr1 CP068277.2 Homo sapiens isolate CHM13 chromosome 1\\n')\n",
      "1 (3104843, '>chr2 CP068276.2 Homo sapiens isolate CHM13 chromosome 2\\n')\n",
      "2 (6138554, '>chr3 CP068275.2 Homo sapiens isolate CHM13 chromosome 3\\n')\n",
      "3 (8652380, '>chr4 CP068274.2 Homo sapiens isolate CHM13 chromosome 4\\n')\n",
      "4 (11072068, '>chr5 CP068273.2 Homo sapiens isolate CHM13 chromosome 5\\n')\n",
      "5 (13347637, '>chr6 CP068272.2 Homo sapiens isolate CHM13 chromosome 6\\n')\n",
      "6 (15499221, '>chr7 CP068271.2 Homo sapiens isolate CHM13 chromosome 7\\n')\n",
      "7 (17506315, '>chr8 CP068270.2 Homo sapiens isolate CHM13 chromosome 8\\n')\n",
      "8 (19334558, '>chr9 CP068269.2 Homo sapiens isolate CHM13 chromosome 9\\n')\n",
      "9 (21217275, '>chr10 CP068268.2 Homo sapiens isolate CHM13 chromosome 10\\n')\n",
      "10 (22901753, '>chr11 CP068267.2 Homo sapiens isolate CHM13 chromosome 11\\n')\n",
      "11 (24590852, '>chr12 CP068266.2 Homo sapiens isolate CHM13 chromosome 12\\n')\n",
      "12 (26257410, '>chr13 CP068265.2 Homo sapiens isolate CHM13 chromosome 13\\n')\n",
      "13 (27676995, '>chr14 CP068264.2 Homo sapiens isolate CHM13 chromosome 14\\n')\n",
      "14 (28941515, '>chr15 CP068263.2 Homo sapiens isolate CHM13 chromosome 15\\n')\n",
      "15 (30188431, '>chr16 CP068262.2 Homo sapiens isolate CHM13 chromosome 16\\n')\n",
      "16 (31392562, '>chr17 CP068261.2 Homo sapiens isolate CHM13 chromosome 17\\n')\n",
      "17 (32446025, '>chr18 CP068260.2 Homo sapiens isolate CHM13 chromosome 18\\n')\n",
      "18 (33452808, '>chr19 CP068259.2 Homo sapiens isolate CHM13 chromosome 19\\n')\n",
      "19 (34224152, '>chr20 CP068258.2 Homo sapiens isolate CHM13 chromosome 20\\n')\n",
      "20 (35051782, '>chr21 CP068257.2 Homo sapiens isolate CHM13 chromosome 21\\n')\n",
      "21 (35615417, '>chr22 CP068256.2 Homo sapiens isolate CHM13 chromosome 22\\n')\n",
      "22 (36256980, '>chrX CP068255.2 Homo sapiens isolate CHM13 chromosome X\\n')\n",
      "23 (38185226, '>chrY CP086569.2 Homo sapiens isolate NA24385 chromosome Y\\n')\n",
      "24 (38965978, '>chrM CP068254.1 Homo sapiens isolate CHM13 mitochondrion, complete genome\\n')\n"
     ]
    }
   ],
   "source": [
    "for i, tup in enumerate(idx_label.items()):\n",
    "    print(i, tup)"
   ]
  },
  {
   "cell_type": "code",
   "execution_count": 10,
   "metadata": {},
   "outputs": [
    {
     "data": {
      "text/plain": [
       "'>chr22 CP068256.2 Homo sapiens isolate CHM13 chromosome 22\\n'"
      ]
     },
     "execution_count": 10,
     "metadata": {},
     "output_type": "execute_result"
    }
   ],
   "source": [
    "file_text[indeces[21]]"
   ]
  },
  {
   "cell_type": "code",
   "execution_count": 11,
   "metadata": {},
   "outputs": [],
   "source": [
    "# chr1 = \"\".join(file_text[indeces[0]+1:indeces[1]])\n",
    "chr21 = \"\".join(file_text[indeces[20]:indeces[21]])\n",
    "\n",
    "\n",
    "with open(\"chr21NoN.fna\", 'w') as f:\n",
    "    f.write(chr21)"
   ]
  }
 ],
 "metadata": {
  "kernelspec": {
   "display_name": "Python 3",
   "language": "python",
   "name": "python3"
  },
  "language_info": {
   "codemirror_mode": {
    "name": "ipython",
    "version": 3
   },
   "file_extension": ".py",
   "mimetype": "text/x-python",
   "name": "python",
   "nbconvert_exporter": "python",
   "pygments_lexer": "ipython3",
   "version": "3.11.7"
  }
 },
 "nbformat": 4,
 "nbformat_minor": 2
}
